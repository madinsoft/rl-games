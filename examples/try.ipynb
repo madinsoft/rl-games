{
 "cells": [
  {
   "cell_type": "code",
   "execution_count": 1,
   "metadata": {},
   "outputs": [],
   "source": [
    "import site\n",
    "ROOT_DIR = '/home/patrick/pCloudDrive/docs/ML/rl-games'\n",
    "site.addsitedir(f'{ROOT_DIR}')\n",
    "site.addsitedir(f'{ROOT_DIR}/src/envs')\n",
    "import gym\n",
    "import gimini_env\n",
    "from utils.gym_wrappers import HistoryWrapper\n",
    "from src.players.player import Player\n",
    "from src.policies.policy_random import PolicyRandom"
   ]
  },
  {
   "cell_type": "code",
   "execution_count": 2,
   "metadata": {},
   "outputs": [],
   "source": [
    "env = HistoryWrapper(gym.make('GiminiEnv-v0'))\n",
    "state, options = env.reset(seed=0, options={})\n",
    "polrand = PolicyRandom(env)\n",
    "player = Player(env, polrand)"
   ]
  },
  {
   "cell_type": "code",
   "execution_count": 3,
   "metadata": {},
   "outputs": [
    {
     "ename": "UnboundLocalError",
     "evalue": "cannot access local variable 'truncated' where it is not associated with a value",
     "output_type": "error",
     "traceback": [
      "\u001b[0;31m---------------------------------------------------------------------------\u001b[0m",
      "\u001b[0;31mUnboundLocalError\u001b[0m                         Traceback (most recent call last)",
      "\u001b[1;32m/home/patrick/pCloudDrive/docs/ML/rl-games/examples/try.ipynb Cellule 4\u001b[0m line \u001b[0;36m1\n\u001b[0;32m----> <a href='vscode-notebook-cell:/home/patrick/pCloudDrive/docs/ML/rl-games/examples/try.ipynb#X13sZmlsZQ%3D%3D?line=0'>1</a>\u001b[0m player\u001b[39m.\u001b[39;49mrun()\n",
      "File \u001b[0;32m~/pCloudDrive/docs/ML/rl-games/src/players/player.py:19\u001b[0m, in \u001b[0;36mPlayer.run\u001b[0;34m(self)\u001b[0m\n\u001b[1;32m     17\u001b[0m \u001b[39mself\u001b[39m\u001b[39m.\u001b[39m_env\u001b[39m.\u001b[39mreset()\n\u001b[1;32m     18\u001b[0m terminated \u001b[39m=\u001b[39m \u001b[39mFalse\u001b[39;00m\n\u001b[0;32m---> 19\u001b[0m \u001b[39mwhile\u001b[39;00m \u001b[39mnot\u001b[39;00m terminated \u001b[39mand\u001b[39;00m \u001b[39mnot\u001b[39;00m truncated:\n\u001b[1;32m     20\u001b[0m     action \u001b[39m=\u001b[39m \u001b[39mself\u001b[39m\u001b[39m.\u001b[39maction()\n\u001b[1;32m     21\u001b[0m     _, _, terminated, truncated, _ \u001b[39m=\u001b[39m \u001b[39mself\u001b[39m\u001b[39m.\u001b[39m_env\u001b[39m.\u001b[39mstep(action)\n",
      "\u001b[0;31mUnboundLocalError\u001b[0m: cannot access local variable 'truncated' where it is not associated with a value"
     ]
    }
   ],
   "source": [
    "player.run()"
   ]
  }
 ],
 "metadata": {
  "kernelspec": {
   "display_name": "f2",
   "language": "python",
   "name": "python3"
  },
  "language_info": {
   "codemirror_mode": {
    "name": "ipython",
    "version": 3
   },
   "file_extension": ".py",
   "mimetype": "text/x-python",
   "name": "python",
   "nbconvert_exporter": "python",
   "pygments_lexer": "ipython3",
   "version": "3.11.3"
  }
 },
 "nbformat": 4,
 "nbformat_minor": 2
}
